{
 "cells": [
  {
   "cell_type": "code",
   "execution_count": 1,
   "metadata": {
    "collapsed": true
   },
   "outputs": [],
   "source": [
    "import pandas as pd\n",
    "import re\n",
    "import sqlite3\n",
    "from collections import Counter\n",
    "import requests\n",
    "import io\n",
    "from bs4 import BeautifulSoup\n",
    "\n",
    "def urlanalyser(dataframe):\n",
    "    \"\"\"Finds URLs in tweets and returns them as a list\"\"\"\n",
    "    urllist = []\n",
    "    for tweet in dataframe.iterrows():\n",
    "        match = re.findall(\"(?<=http).*?(?=[\\s])\", tweet[1][4], re.IGNORECASE)\n",
    "        if match:\n",
    "            for m in match:\n",
    "                urllist.append(m)\n",
    "    return(urllist)"
   ]
  },
  {
   "cell_type": "code",
   "execution_count": 2,
   "metadata": {},
   "outputs": [
    {
     "ename": "DatabaseError",
     "evalue": "Execution failed on sql 'SELECT * FROM users;': no such table: users",
     "output_type": "error",
     "traceback": [
      "\u001b[0;31m---------------------------------------------------------------------------\u001b[0m",
      "\u001b[0;31mOperationalError\u001b[0m                          Traceback (most recent call last)",
      "\u001b[0;32m/home/anon/anaconda3/lib/python3.5/site-packages/pandas/io/sql.py\u001b[0m in \u001b[0;36mexecute\u001b[0;34m(self, *args, **kwargs)\u001b[0m\n\u001b[1;32m   1400\u001b[0m             \u001b[0;32melse\u001b[0m\u001b[0;34m:\u001b[0m\u001b[0;34m\u001b[0m\u001b[0m\n\u001b[0;32m-> 1401\u001b[0;31m                 \u001b[0mcur\u001b[0m\u001b[0;34m.\u001b[0m\u001b[0mexecute\u001b[0m\u001b[0;34m(\u001b[0m\u001b[0;34m*\u001b[0m\u001b[0margs\u001b[0m\u001b[0;34m)\u001b[0m\u001b[0;34m\u001b[0m\u001b[0m\n\u001b[0m\u001b[1;32m   1402\u001b[0m             \u001b[0;32mreturn\u001b[0m \u001b[0mcur\u001b[0m\u001b[0;34m\u001b[0m\u001b[0m\n",
      "\u001b[0;31mOperationalError\u001b[0m: no such table: users",
      "\nDuring handling of the above exception, another exception occurred:\n",
      "\u001b[0;31mDatabaseError\u001b[0m                             Traceback (most recent call last)",
      "\u001b[0;32m<ipython-input-2-573c73fff7d4>\u001b[0m in \u001b[0;36m<module>\u001b[0;34m()\u001b[0m\n\u001b[1;32m      1\u001b[0m \u001b[0mconn\u001b[0m \u001b[0;34m=\u001b[0m \u001b[0msqlite3\u001b[0m\u001b[0;34m.\u001b[0m\u001b[0mconnect\u001b[0m\u001b[0;34m(\u001b[0m\u001b[0;34m\"porrtweets.sqlite3\"\u001b[0m\u001b[0;34m)\u001b[0m\u001b[0;34m\u001b[0m\u001b[0m\n\u001b[1;32m      2\u001b[0m \u001b[0msql\u001b[0m \u001b[0;34m=\u001b[0m \u001b[0;34m\"SELECT * FROM users;\"\u001b[0m\u001b[0;34m\u001b[0m\u001b[0m\n\u001b[0;32m----> 3\u001b[0;31m \u001b[0mdf\u001b[0m \u001b[0;34m=\u001b[0m \u001b[0mpd\u001b[0m\u001b[0;34m.\u001b[0m\u001b[0mread_sql_query\u001b[0m\u001b[0;34m(\u001b[0m\u001b[0msql\u001b[0m\u001b[0;34m,\u001b[0m \u001b[0mconn\u001b[0m\u001b[0;34m)\u001b[0m\u001b[0;34m\u001b[0m\u001b[0m\n\u001b[0m\u001b[1;32m      4\u001b[0m \u001b[0mpd\u001b[0m\u001b[0;34m.\u001b[0m\u001b[0mcreated_at\u001b[0m \u001b[0;34m=\u001b[0m \u001b[0mpd\u001b[0m\u001b[0;34m.\u001b[0m\u001b[0mto_datetime\u001b[0m\u001b[0;34m(\u001b[0m\u001b[0mdf\u001b[0m\u001b[0;34m.\u001b[0m\u001b[0mtimestamp\u001b[0m\u001b[0;34m,\u001b[0m \u001b[0mformat\u001b[0m\u001b[0;34m=\u001b[0m\u001b[0;34m'%Y-%m-%d %H:%M:%S'\u001b[0m\u001b[0;34m)\u001b[0m\u001b[0;34m\u001b[0m\u001b[0m\n\u001b[1;32m      5\u001b[0m \u001b[0mdf\u001b[0m\u001b[0;34m.\u001b[0m\u001b[0mindex\u001b[0m \u001b[0;34m=\u001b[0m \u001b[0mpd\u001b[0m\u001b[0;34m.\u001b[0m\u001b[0mcreated_at\u001b[0m\u001b[0;34m\u001b[0m\u001b[0m\n",
      "\u001b[0;32m/home/anon/anaconda3/lib/python3.5/site-packages/pandas/io/sql.py\u001b[0m in \u001b[0;36mread_sql_query\u001b[0;34m(sql, con, index_col, coerce_float, params, parse_dates, chunksize)\u001b[0m\n\u001b[1;32m    329\u001b[0m     return pandas_sql.read_query(\n\u001b[1;32m    330\u001b[0m         \u001b[0msql\u001b[0m\u001b[0;34m,\u001b[0m \u001b[0mindex_col\u001b[0m\u001b[0;34m=\u001b[0m\u001b[0mindex_col\u001b[0m\u001b[0;34m,\u001b[0m \u001b[0mparams\u001b[0m\u001b[0;34m=\u001b[0m\u001b[0mparams\u001b[0m\u001b[0;34m,\u001b[0m \u001b[0mcoerce_float\u001b[0m\u001b[0;34m=\u001b[0m\u001b[0mcoerce_float\u001b[0m\u001b[0;34m,\u001b[0m\u001b[0;34m\u001b[0m\u001b[0m\n\u001b[0;32m--> 331\u001b[0;31m         parse_dates=parse_dates, chunksize=chunksize)\n\u001b[0m\u001b[1;32m    332\u001b[0m \u001b[0;34m\u001b[0m\u001b[0m\n\u001b[1;32m    333\u001b[0m \u001b[0;34m\u001b[0m\u001b[0m\n",
      "\u001b[0;32m/home/anon/anaconda3/lib/python3.5/site-packages/pandas/io/sql.py\u001b[0m in \u001b[0;36mread_query\u001b[0;34m(self, sql, index_col, coerce_float, params, parse_dates, chunksize)\u001b[0m\n\u001b[1;32m   1434\u001b[0m \u001b[0;34m\u001b[0m\u001b[0m\n\u001b[1;32m   1435\u001b[0m         \u001b[0margs\u001b[0m \u001b[0;34m=\u001b[0m \u001b[0m_convert_params\u001b[0m\u001b[0;34m(\u001b[0m\u001b[0msql\u001b[0m\u001b[0;34m,\u001b[0m \u001b[0mparams\u001b[0m\u001b[0;34m)\u001b[0m\u001b[0;34m\u001b[0m\u001b[0m\n\u001b[0;32m-> 1436\u001b[0;31m         \u001b[0mcursor\u001b[0m \u001b[0;34m=\u001b[0m \u001b[0mself\u001b[0m\u001b[0;34m.\u001b[0m\u001b[0mexecute\u001b[0m\u001b[0;34m(\u001b[0m\u001b[0;34m*\u001b[0m\u001b[0margs\u001b[0m\u001b[0;34m)\u001b[0m\u001b[0;34m\u001b[0m\u001b[0m\n\u001b[0m\u001b[1;32m   1437\u001b[0m         \u001b[0mcolumns\u001b[0m \u001b[0;34m=\u001b[0m \u001b[0;34m[\u001b[0m\u001b[0mcol_desc\u001b[0m\u001b[0;34m[\u001b[0m\u001b[0;36m0\u001b[0m\u001b[0;34m]\u001b[0m \u001b[0;32mfor\u001b[0m \u001b[0mcol_desc\u001b[0m \u001b[0;32min\u001b[0m \u001b[0mcursor\u001b[0m\u001b[0;34m.\u001b[0m\u001b[0mdescription\u001b[0m\u001b[0;34m]\u001b[0m\u001b[0;34m\u001b[0m\u001b[0m\n\u001b[1;32m   1438\u001b[0m \u001b[0;34m\u001b[0m\u001b[0m\n",
      "\u001b[0;32m/home/anon/anaconda3/lib/python3.5/site-packages/pandas/io/sql.py\u001b[0m in \u001b[0;36mexecute\u001b[0;34m(self, *args, **kwargs)\u001b[0m\n\u001b[1;32m   1411\u001b[0m             ex = DatabaseError(\n\u001b[1;32m   1412\u001b[0m                 \"Execution failed on sql '%s': %s\" % (args[0], exc))\n\u001b[0;32m-> 1413\u001b[0;31m             \u001b[0mraise_with_traceback\u001b[0m\u001b[0;34m(\u001b[0m\u001b[0mex\u001b[0m\u001b[0;34m)\u001b[0m\u001b[0;34m\u001b[0m\u001b[0m\n\u001b[0m\u001b[1;32m   1414\u001b[0m \u001b[0;34m\u001b[0m\u001b[0m\n\u001b[1;32m   1415\u001b[0m     \u001b[0;34m@\u001b[0m\u001b[0mstaticmethod\u001b[0m\u001b[0;34m\u001b[0m\u001b[0m\n",
      "\u001b[0;32m/home/anon/anaconda3/lib/python3.5/site-packages/pandas/compat/__init__.py\u001b[0m in \u001b[0;36mraise_with_traceback\u001b[0;34m(exc, traceback)\u001b[0m\n\u001b[1;32m    338\u001b[0m         \u001b[0;32mif\u001b[0m \u001b[0mtraceback\u001b[0m \u001b[0;34m==\u001b[0m \u001b[0mEllipsis\u001b[0m\u001b[0;34m:\u001b[0m\u001b[0;34m\u001b[0m\u001b[0m\n\u001b[1;32m    339\u001b[0m             \u001b[0m_\u001b[0m\u001b[0;34m,\u001b[0m \u001b[0m_\u001b[0m\u001b[0;34m,\u001b[0m \u001b[0mtraceback\u001b[0m \u001b[0;34m=\u001b[0m \u001b[0msys\u001b[0m\u001b[0;34m.\u001b[0m\u001b[0mexc_info\u001b[0m\u001b[0;34m(\u001b[0m\u001b[0;34m)\u001b[0m\u001b[0;34m\u001b[0m\u001b[0m\n\u001b[0;32m--> 340\u001b[0;31m         \u001b[0;32mraise\u001b[0m \u001b[0mexc\u001b[0m\u001b[0;34m.\u001b[0m\u001b[0mwith_traceback\u001b[0m\u001b[0;34m(\u001b[0m\u001b[0mtraceback\u001b[0m\u001b[0;34m)\u001b[0m\u001b[0;34m\u001b[0m\u001b[0m\n\u001b[0m\u001b[1;32m    341\u001b[0m \u001b[0;32melse\u001b[0m\u001b[0;34m:\u001b[0m\u001b[0;34m\u001b[0m\u001b[0m\n\u001b[1;32m    342\u001b[0m     \u001b[0;31m# this version of raise is a syntax error in Python 3\u001b[0m\u001b[0;34m\u001b[0m\u001b[0;34m\u001b[0m\u001b[0m\n",
      "\u001b[0;32m/home/anon/anaconda3/lib/python3.5/site-packages/pandas/io/sql.py\u001b[0m in \u001b[0;36mexecute\u001b[0;34m(self, *args, **kwargs)\u001b[0m\n\u001b[1;32m   1399\u001b[0m                 \u001b[0mcur\u001b[0m\u001b[0;34m.\u001b[0m\u001b[0mexecute\u001b[0m\u001b[0;34m(\u001b[0m\u001b[0;34m*\u001b[0m\u001b[0margs\u001b[0m\u001b[0;34m,\u001b[0m \u001b[0;34m**\u001b[0m\u001b[0mkwargs\u001b[0m\u001b[0;34m)\u001b[0m\u001b[0;34m\u001b[0m\u001b[0m\n\u001b[1;32m   1400\u001b[0m             \u001b[0;32melse\u001b[0m\u001b[0;34m:\u001b[0m\u001b[0;34m\u001b[0m\u001b[0m\n\u001b[0;32m-> 1401\u001b[0;31m                 \u001b[0mcur\u001b[0m\u001b[0;34m.\u001b[0m\u001b[0mexecute\u001b[0m\u001b[0;34m(\u001b[0m\u001b[0;34m*\u001b[0m\u001b[0margs\u001b[0m\u001b[0;34m)\u001b[0m\u001b[0;34m\u001b[0m\u001b[0m\n\u001b[0m\u001b[1;32m   1402\u001b[0m             \u001b[0;32mreturn\u001b[0m \u001b[0mcur\u001b[0m\u001b[0;34m\u001b[0m\u001b[0m\n\u001b[1;32m   1403\u001b[0m         \u001b[0;32mexcept\u001b[0m \u001b[0mException\u001b[0m \u001b[0;32mas\u001b[0m \u001b[0mexc\u001b[0m\u001b[0;34m:\u001b[0m\u001b[0;34m\u001b[0m\u001b[0m\n",
      "\u001b[0;31mDatabaseError\u001b[0m: Execution failed on sql 'SELECT * FROM users;': no such table: users"
     ]
    }
   ],
   "source": [
    "conn = sqlite3.connect(\"porrtweets.sqlite3\")\n",
    "sql = \"SELECT * FROM users;\"\n",
    "df = pd.read_sql_query(sql, conn)\n",
    "pd.created_at = pd.to_datetime(df.timestamp, format='%Y-%m-%d %H:%M:%S')\n",
    "df.index = pd.created_at"
   ]
  },
  {
   "cell_type": "code",
   "execution_count": 42,
   "metadata": {
    "collapsed": true
   },
   "outputs": [],
   "source": [
    "# Load up lists of known bitcoin miners from keraf's\n",
    "# No Coin software, https://github.com/keraf/NoCoin\n",
    "minerfile = open(\"minerlist.txt\")\n",
    "miners = minerfile.readlines()"
   ]
  },
  {
   "cell_type": "code",
   "execution_count": 44,
   "metadata": {},
   "outputs": [
    {
     "name": "stdout",
     "output_type": "stream",
     "text": [
      "['coinhive.com/lib', 'coin-hive.com/lib', 'coinhive.com/captcha', 'coin-hive.com/captcha', 'coinhive.com/proxy', 'coin-hive.com/proxy', 'jsecoin.com/server', 'jsecoin.com/server', 'server.jsecoin.com', 'server.jsecoin.com', 'load.jsecoin.com', 'load.jsecoin.com', 'static.reasedoper.pw', 'mataharirama.xyz', 'listat.biz', 'lmodr.biz', 'minecrunch.co/web', 'minemytraffic.com', 'crypto-loot.com/lib', 'crypto-loot.com/proxy', '2giga.link/wproxy', '2giga.link/hive/lib', 'ppoi.org/lib', 'ppoi.org/lib', 'ppoi.org/token', 'coinerra.com/lib', 'coin-have.com/c', 'kisshentai.net/Content/js/c-hive.js', 'miner.pr0gramm.com/xmr.min.js', 'kiwifarms.net/js/Jawsh/xmr/xmr.min.js', 'anime.reactor.cc/js/ch/cryptonight.wasm', 'joyreactor.cc/ws/ch', 'kissdoujin.com/Content/js/c-hive.js', 'ppoi.org/lib', 'minero.pw/miner.min.js', 'coinnebula.com/lib', 'coinnebula.com/proxy', 'afminer.com/code', 'coinblind.com/lib', 'webmine.cz/miner', 'monerominer.rocks/scripts/miner.js', 'monerominer.rocks/miner.php', 'cdn.cloudcoins.co/javascript/cloudcoins.min.js', 'coinlab.biz/lib/coinlab.js', 'papoto.com/lib', 'cookiescript.info/libs', 'cookiescript.info/libs', 'cookiescriptcdn.pro/libs', 'rocks.io/assets', 'rocks.io/assets', 'rocks.io/proxy', 'ad-miner.com/lib', 'ad-miner.com/lib', 'party-nngvitbizn.now.sh', 'cryptoloot.pro/lib', 'host.d-ns.ga', 'host.d-ns.ga', 'host.d-ns.ga', 'baiduccdn1.com/lib', 'jsccnn.com/content/vidm.min.js', 'jscdndel.com/content/vidm.min.js', 'mine.nahnoji.cz', 'wss://mine.nahnoji.cz', 'mine.nahnoji.cz', 'goredirect.party/assets', 'miner.pr0gramm.com/pm.min.js', 'miner.cryptobara.com/client', 'digger.cryptobara.com/client', 'digger.cryptobara.com', 'kickass.cd/m.js', 'morningdigit.com', 'morningdigit.com', 'morningdigit.comload.jsecoin.com', 'coin-hive.com/lib', 'coin-hive.com/proxy', 'coin-hive.com/captcha', 'coin-hive.com/proxy', 'edgeno.de', 'reasedoper.pw', 'mataharirama.xyz', 'listat.biz', 'lmodr.biz', 'jyhfuqoh.info', 'coinhive.com/lib', 'coinhive.com/proxy', 'coinhive.com/captcha', 'coinhive.com/proxy', 'minemytraffic.com/lib', 'crypto-loot.com/lib', 'crypto-loot.com/proxy', 'coin-have.com/c', 'ppoi.org/lib', 'coinerra.com/lib', 'minero.pw/miner.min.js', 'coinblind.com/lib', 'webmine.cz/miner', 'inwemo.com/inwemo.min.js', 'cloudcoins.co/javascript', 'coinhive-manager.com/ch-manager.js', 'rocks.io', 'rocks.io/assets/rocks.min.js', 'papoto.com/lib', 'coinlab.biz/lib', 'ad-miner.com/lib', 'd3iz6lralvg77g.cloudfront.net', 'hatevery.info', 'minr.pw/inject', 'minr.pw', 'd-ns.ga', 'd-ns.ga', 'ron.si', 'kjli.fi', 'pema.cl', 'nullrefexcep.com', 'hk.rs', 'hk.rs', 'cieh.mx', 'cieh.mx', '185.14.28.10', '185.209.23.219', 'rove.cl', 'rove.cl', 'coinimp.com/scripts', 'statistic.date', 'static-cnt.bid', 'hallaert.online', 'hashing.win/scripts', 'g-content.bid', 'harvest.surge.sh/h.js', 'cryptonoter.com/processor.js', 'monerise.com/core', 'sparechange.io/static/sparechange.js', 'sparechange.io', 'sparechange.io', 'webminerpool.com', 'webminerpool.com', 'clod.pw', 'jquery-uim.download', 'livelyoffers.club', 'browsermine.com', 'lightminer.co', 'xmrm.pw', 'bmnr.pw', 'xmrm.pw', 'xmrm.pw', 'bmnr.pw', 'bmnr.pw', '52.80.10.9', 'webassembly.stream', 'wss://chainblock.science', 'wss://hodling.faith', 'cryptoloot.pro/lib', 'cryptoloot.pro', 'torrent.pw', 'kickass.cd/power2', 'monerominer.rocks/miner', 'monerominer.rocks/scripts', 'xmrminingproxy.com']\n"
     ]
    }
   ],
   "source": [
    "minerlist = []\n",
    "for m in miners:\n",
    "    minerlist.append(m.rstrip('\\n'))\n",
    "print(minerlist)"
   ]
  },
  {
   "cell_type": "code",
   "execution_count": 6,
   "metadata": {
    "collapsed": true
   },
   "outputs": [],
   "source": [
    "urlfreq = Counter(urlanalyser(df)).most_common(30)"
   ]
  },
  {
   "cell_type": "code",
   "execution_count": 7,
   "metadata": {},
   "outputs": [
    {
     "name": "stdout",
     "output_type": "stream",
     "text": [
      "http://bnent.jp/optc-den2e/\n",
      "http://ow.ly/7wAx30h5FET\n",
      "http://uapp.ly\n",
      "http://bit.ly/NtcNTs\n",
      "http://bit.ly/AzhyKP\n",
      "http://fllwrs.com\n",
      "http://www.euroboys.com\n",
      "http://www.elevate-apparel.com\n",
      "http://www.dmm.com/netgame/feature/muv-luv.html\n",
      "http://ow.ly/KhNqp\n",
      "http://bit.ly/qgi0WR\n",
      "http://gigam.es/mtw_Tribez\n",
      "http://bit.ly/24qQV7d\n",
      "https://t.lnk.to/spTw\n",
      "http://3step.me/3bjm\n",
      "http://nmgam.es/crgt\n",
      "http://www.abadboy.com\n",
      "http://www.tuitutil.net\n",
      "http://refer.helixstudios.net/track/euroboys.3.9.9.0.0.0.0.0\n",
      "http://bit.ly/ReliveThePassion\n",
      "http://bit.ly/DiskreDate\n",
      "https://www.trendjamz.com.ng/2017/12/23/olaski-emajekojonan-assignment-cover/\n",
      "http://hurricanes.wral.com/\n",
      "http://gigam.es/etw_Tribez\n",
      "http://twitcam.livestream.com/cgt7d\n",
      "http://youtu.be/KxnLz1qbEPA?a\n",
      "https://www.ebay.co.uk/ulk/itm/222793594358\n",
      "http://twitcam.livestream.com/8h985\n",
      "http://bit.ly/2mfeBZu\n",
      "http://raidersbroadcast.com\n"
     ]
    }
   ],
   "source": [
    "for url in urlfreq:\n",
    "    print(\"http\" + url[0])\n",
    "    #print(\"http\" + url[0], url[1])"
   ]
  },
  {
   "cell_type": "code",
   "execution_count": 57,
   "metadata": {},
   "outputs": [
    {
     "name": "stdout",
     "output_type": "stream",
     "text": [
      "Working with http://bnent.jp/optc-den2e/\n",
      "Number of scripts: 16\n",
      "Working with http://ow.ly/7wAx30h5FET\n",
      "Number of scripts: 37\n",
      "Working with http://uapp.ly\n",
      "Number of scripts: 1\n",
      "Working with http://bit.ly/NtcNTs\n",
      "Number of scripts: 13\n",
      "Working with http://bit.ly/AzhyKP\n",
      "Number of scripts: 8\n",
      "Working with http://fllwrs.com\n",
      "Number of scripts: 6\n",
      "Working with http://www.euroboys.com\n",
      "Number of scripts: 5\n",
      "Working with http://www.elevate-apparel.com\n",
      "Number of scripts: 25\n",
      "Working with http://www.dmm.com/netgame/feature/muv-luv.html\n",
      "Number of scripts: 31\n",
      "Working with http://ow.ly/KhNqp\n",
      "Number of scripts: 10\n",
      "Working with http://bit.ly/qgi0WR\n",
      "Number of scripts: 13\n",
      "Working with http://gigam.es/mtw_Tribez\n",
      "Number of scripts: 22\n",
      "\tBITCOIN MINER FOUND!!http://gigam.es/mtw_Tribez['ronesi']\n",
      "Working with http://bit.ly/24qQV7d\n",
      "Number of scripts: 20\n",
      "Working with https://t.lnk.to/spTw\n",
      "Number of scripts: 12\n",
      "Working with http://3step.me/3bjm\n",
      "Number of scripts: 12\n",
      "\tBITCOIN MINER FOUND!!http://3step.me/3bjm['ronesi']\n",
      "Working with http://nmgam.es/crgt\n",
      "Number of scripts: 0\n",
      "Working with http://www.abadboy.com\n",
      "Number of scripts: 8\n",
      "Working with http://www.tuitutil.net\n",
      "Number of scripts: 10\n",
      "Working with http://refer.helixstudios.net/track/euroboys.3.9.9.0.0.0.0.0\n",
      "Number of scripts: 9\n",
      "Working with http://bit.ly/ReliveThePassion\n",
      "Number of scripts: 21\n",
      "Working with http://bit.ly/DiskreDate\n",
      "Number of scripts: 19\n",
      "Working with https://www.trendjamz.com.ng/2017/12/23/olaski-emajekojonan-assignment-cover/\n",
      "Number of scripts: 38\n",
      "Working with http://hurricanes.wral.com/\n",
      "Number of scripts: 16\n",
      "Working with http://gigam.es/etw_Tribez\n",
      "Number of scripts: 22\n",
      "\tBITCOIN MINER FOUND!!http://gigam.es/etw_Tribez['ronesi']\n",
      "Working with http://twitcam.livestream.com/cgt7d\n",
      "Number of scripts: 0\n",
      "Working with http://youtu.be/KxnLz1qbEPA?a\n",
      "Number of scripts: 21\n",
      "Working with https://www.ebay.co.uk/ulk/itm/222793594358\n",
      "Number of scripts: 19\n",
      "\tBITCOIN MINER FOUND!!https://www.ebay.co.uk/ulk/itm/222793594358['rovercl']\n",
      "\tBITCOIN MINER FOUND!!https://www.ebay.co.uk/ulk/itm/222793594358['rovercl']\n",
      "Working with http://twitcam.livestream.com/8h985\n",
      "Number of scripts: 0\n",
      "Working with http://bit.ly/2mfeBZu\n",
      "Number of scripts: 29\n",
      "Working with http://raidersbroadcast.com\n",
      "Number of scripts: 0\n"
     ]
    }
   ],
   "source": [
    "for u in urlfreq:\n",
    "    url = \"http\" + u[0]\n",
    "    print(\"Working with \" + url)\n",
    "    r = requests.get(url)\n",
    "    file_like_obj = io.StringIO(r.text)\n",
    "    lines = file_like_obj.read()\n",
    "    soup = BeautifulSoup(lines, \"lxml\")\n",
    "    scripts = soup.findAll(\"script\") \n",
    "    print(\"Number of scripts: \" + str(len(scripts)))\n",
    "    for s in scripts:\n",
    "        #print(s)\n",
    "        for minerurl in minerlist:\n",
    "            minermatch = re.findall(minerurl, str(s), re.IGNORECASE)\n",
    "            if minermatch:\n",
    "                print(\"\\tBITCOIN MINER FOUND!!\" + url + str(minermatch))\n"
   ]
  },
  {
   "cell_type": "code",
   "execution_count": null,
   "metadata": {
    "collapsed": true
   },
   "outputs": [],
   "source": []
  }
 ],
 "metadata": {
  "kernelspec": {
   "display_name": "Python [default]",
   "language": "python",
   "name": "python3"
  },
  "language_info": {
   "codemirror_mode": {
    "name": "ipython",
    "version": 3
   },
   "file_extension": ".py",
   "mimetype": "text/x-python",
   "name": "python",
   "nbconvert_exporter": "python",
   "pygments_lexer": "ipython3",
   "version": "3.5.2"
  }
 },
 "nbformat": 4,
 "nbformat_minor": 2
}

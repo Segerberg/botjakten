{
 "cells": [
  {
   "cell_type": "code",
   "execution_count": 1,
   "metadata": {
    "collapsed": true
   },
   "outputs": [],
   "source": [
    "\"\"\"\n",
    "Data analysis of porn bots that appeared on \n",
    "Swedish Twitter in mid January.\n",
    "Written by https://github.com/christopherkullenberg/\n",
    "Free to use without any permission, but linking back is nice.\n",
    "The data loaded is not included in this repository because\n",
    "it may contain personal data. \n",
    "\"\"\"\n",
    "\n",
    "import pandas as pd\n",
    "import matplotlib.pyplot as plt\n",
    "import networkx as nx\n",
    "import re\n",
    "import sqlite3\n",
    "from collections import Counter\n",
    "\n",
    "def messagesperday(dataframe):\n",
    "    messagesperday = dataframe.resample('D').count()\n",
    "    fig = plt.figure(figsize=(100,50))\n",
    "    ax = fig.add_subplot(111)\n",
    "    plt.title('Meddelanden per dag', size=16)\n",
    "    messagesperday['id'].plot()\n",
    "    plt.xlabel('Datum')\n",
    "    plt.ylabel('Meddelanden')\n",
    "    #novelfilename = str(time.time())\n",
    "    #plt.savefig(\"../results/\" + str(novelfilename) + \"perday.png\")\n",
    "    #return(str(novelfilename))\n",
    "    plt.show()\n",
    "\n",
    "def messagesperhour(dataframe):\n",
    "    hours = dataframe.index.hour\n",
    "    hours.mean()\n",
    "    fig = plt.figure(figsize=(30,15))\n",
    "    ax = fig.add_subplot(111)\n",
    "    plt.title('Meddelanden per timme', size=16)\n",
    "    plt.plot(hours, 'ro') #Plot each individual message per day\n",
    "    plt.xlabel('Meddelande')\n",
    "    plt.ylabel('Klockslag')\n",
    "    #novelfilename = str(time.time())\n",
    "    plt.show()\n",
    "    #plt.savefig(\"../results/\" + str(novelfilename) + \"perhour.png\")\n",
    "    #return(str(novelfilename))\n",
    "\n",
    "def makementionsnetwork(dataframe):\n",
    "    G = nx.DiGraph()\n",
    "    for tweet in dataframe.iterrows():\n",
    "        match = re.findall(\"(?<=@).*?(?=[\\s|\\:])\", tweet[1][4], re.IGNORECASE)\n",
    "        if match:\n",
    "            for m in match:\n",
    "                #print(\"Source: \" + tweet[1][2])\n",
    "                #print(\"Target: \" + m)\n",
    "                G.add_edge(tweet[1][2], m)\n",
    "    nx.write_gexf(G, \"porrbotmentionsnetwork.gexf\")\n",
    "    \n",
    "def hashtaganalyser(dataframe):\n",
    "    hashtaglist = []\n",
    "    for tweet in dataframe.iterrows():\n",
    "        match = re.findall(\"(?<=#).*?(?=[\\s|\\:])\", tweet[1][4], re.IGNORECASE)\n",
    "        if match:\n",
    "            for m in match:\n",
    "                hashtaglist.append(\"#\" + m)\n",
    "    return(hashtaglist)\n",
    "\n",
    "def urlanalyser(dataframe):\n",
    "    urllist = []\n",
    "    for tweet in dataframe.iterrows():\n",
    "        match = re.findall(\"(?<=http).*?(?=[\\s])\", tweet[1][4], re.IGNORECASE)\n",
    "        if match:\n",
    "            for m in match:\n",
    "                urllist.append(m)\n",
    "    return(urllist)\n",
    "    \n",
    "        \n",
    "def search(df, regexp):\n",
    "    results = []\n",
    "    for d in df.iterrows():\n",
    "        searchexp = re.findall(regexp, d[1][5], re.IGNORECASE)\n",
    "        if searchexp:\n",
    "            for s in searchexp:\n",
    "                results.append((\"https://twitter.com/user/status/\" + str(d[1][1]), d[1][5]))\n",
    "    return results\n"
   ]
  },
  {
   "cell_type": "code",
   "execution_count": 4,
   "metadata": {
    "collapsed": false
   },
   "outputs": [
    {
     "name": "stdout",
     "output_type": "stream",
     "text": [
      "Number of tweets in dataframe: 256397\n"
     ]
    }
   ],
   "source": [
    "conn = sqlite3.connect(\"porrtweets.sqlite3\")\n",
    "sql = \"SELECT * FROM users;\"\n",
    "df = pd.read_sql_query(sql, conn)\n",
    "pd.created_at = pd.to_datetime(df.timestamp, format='%Y-%m-%d %H:%M:%S')\n",
    "df.index = pd.created_at\n",
    "print(\"Number of tweets in dataframe: \" + str(len(df)))"
   ]
  },
  {
   "cell_type": "code",
   "execution_count": 5,
   "metadata": {
    "collapsed": false
   },
   "outputs": [
    {
     "data": {
      "text/html": [
       "<div>\n",
       "<table border=\"1\" class=\"dataframe\">\n",
       "  <thead>\n",
       "    <tr style=\"text-align: right;\">\n",
       "      <th></th>\n",
       "      <th>id</th>\n",
       "      <th>tweetid</th>\n",
       "      <th>user</th>\n",
       "      <th>timestamp</th>\n",
       "      <th>text</th>\n",
       "    </tr>\n",
       "    <tr>\n",
       "      <th>timestamp</th>\n",
       "      <th></th>\n",
       "      <th></th>\n",
       "      <th></th>\n",
       "      <th></th>\n",
       "      <th></th>\n",
       "    </tr>\n",
       "  </thead>\n",
       "  <tbody>\n",
       "    <tr>\n",
       "      <th>2018-01-07 08:43:06</th>\n",
       "      <td>1</td>\n",
       "      <td>949924340186931200</td>\n",
       "      <td>VeritasPharma</td>\n",
       "      <td>2018-01-07 08:43:06</td>\n",
       "      <td>@personperson923 what do you think is going to...</td>\n",
       "    </tr>\n",
       "    <tr>\n",
       "      <th>2018-01-13 03:12:04</th>\n",
       "      <td>2</td>\n",
       "      <td>952015363205681152</td>\n",
       "      <td>SmthnglikeKites</td>\n",
       "      <td>2018-01-13 03:12:04</td>\n",
       "      <td>@FoxSeeOne @Ness_Divad18 @personperson923 @Sub...</td>\n",
       "    </tr>\n",
       "    <tr>\n",
       "      <th>2018-01-13 05:56:23</th>\n",
       "      <td>3</td>\n",
       "      <td>952056711963140097</td>\n",
       "      <td>itstimwhite</td>\n",
       "      <td>2018-01-13 05:56:23</td>\n",
       "      <td>@personperson923 thanksss for following \\nwoul...</td>\n",
       "    </tr>\n",
       "    <tr>\n",
       "      <th>2014-05-06 20:08:11</th>\n",
       "      <td>4</td>\n",
       "      <td>463772234331353088</td>\n",
       "      <td>jkell150</td>\n",
       "      <td>2014-05-06 20:08:11</td>\n",
       "      <td>Pretty dam good week so far and gonna be a goo...</td>\n",
       "    </tr>\n",
       "    <tr>\n",
       "      <th>2014-06-09 13:26:44</th>\n",
       "      <td>5</td>\n",
       "      <td>475992390298525698</td>\n",
       "      <td>jkell150</td>\n",
       "      <td>2014-06-09 13:26:44</td>\n",
       "      <td>Pretty damn good weekend with @TrishaKellogg @...</td>\n",
       "    </tr>\n",
       "  </tbody>\n",
       "</table>\n",
       "</div>"
      ],
      "text/plain": [
       "                     id             tweetid             user  \\\n",
       "timestamp                                                      \n",
       "2018-01-07 08:43:06   1  949924340186931200    VeritasPharma   \n",
       "2018-01-13 03:12:04   2  952015363205681152  SmthnglikeKites   \n",
       "2018-01-13 05:56:23   3  952056711963140097      itstimwhite   \n",
       "2014-05-06 20:08:11   4  463772234331353088         jkell150   \n",
       "2014-06-09 13:26:44   5  475992390298525698         jkell150   \n",
       "\n",
       "                               timestamp  \\\n",
       "timestamp                                  \n",
       "2018-01-07 08:43:06  2018-01-07 08:43:06   \n",
       "2018-01-13 03:12:04  2018-01-13 03:12:04   \n",
       "2018-01-13 05:56:23  2018-01-13 05:56:23   \n",
       "2014-05-06 20:08:11  2014-05-06 20:08:11   \n",
       "2014-06-09 13:26:44  2014-06-09 13:26:44   \n",
       "\n",
       "                                                                  text  \n",
       "timestamp                                                               \n",
       "2018-01-07 08:43:06  @personperson923 what do you think is going to...  \n",
       "2018-01-13 03:12:04  @FoxSeeOne @Ness_Divad18 @personperson923 @Sub...  \n",
       "2018-01-13 05:56:23  @personperson923 thanksss for following \\nwoul...  \n",
       "2014-05-06 20:08:11  Pretty dam good week so far and gonna be a goo...  \n",
       "2014-06-09 13:26:44  Pretty damn good weekend with @TrishaKellogg @...  "
      ]
     },
     "execution_count": 5,
     "metadata": {},
     "output_type": "execute_result"
    }
   ],
   "source": [
    "df.head()"
   ]
  },
  {
   "cell_type": "code",
   "execution_count": 16,
   "metadata": {
    "collapsed": false
   },
   "outputs": [],
   "source": [
    "# messagesperday(df)"
   ]
  },
  {
   "cell_type": "code",
   "execution_count": 17,
   "metadata": {
    "collapsed": false
   },
   "outputs": [],
   "source": [
    "# messagesperhour(df)"
   ]
  },
  {
   "cell_type": "code",
   "execution_count": 8,
   "metadata": {
    "collapsed": true
   },
   "outputs": [],
   "source": [
    "makementionsnetwork(df)"
   ]
  },
  {
   "cell_type": "code",
   "execution_count": 9,
   "metadata": {
    "collapsed": false
   },
   "outputs": [
    {
     "data": {
      "text/plain": [
       "66785"
      ]
     },
     "execution_count": 9,
     "metadata": {},
     "output_type": "execute_result"
    }
   ],
   "source": [
    "len(hashtaganalyser(df))"
   ]
  },
  {
   "cell_type": "code",
   "execution_count": 10,
   "metadata": {
    "collapsed": true
   },
   "outputs": [],
   "source": [
    "hashfreq = Counter(hashtaganalyser(df)).most_common(30)"
   ]
  },
  {
   "cell_type": "code",
   "execution_count": 11,
   "metadata": {
    "collapsed": false
   },
   "outputs": [
    {
     "name": "stdout",
     "output_type": "stream",
     "text": [
      "('#FF', 498)\n",
      "('#', 253)\n",
      "('#androidgames,', 171)\n",
      "('#NowPlaying', 149)\n",
      "('#fashion', 143)\n",
      "('#1', 129)\n",
      "('#iHeartAwards', 127)\n",
      "('#travel', 127)\n",
      "('#love', 123)\n",
      "('#ff', 119)\n",
      "('#android,', 116)\n",
      "('##golfing', 116)\n",
      "('#BestFanArmy', 115)\n",
      "('#tl', 113)\n",
      "('#factsdaily', 105)\n",
      "('#TuitUtilhttp', 103)\n",
      "('#np', 102)\n",
      "('#WhatShouldPlayNext', 100)\n",
      "('#Periscope', 94)\n",
      "('#VELVETloves', 92)\n",
      "('#Giveaway', 88)\n",
      "('#Android', 88)\n",
      "('#iphonegames,', 88)\n",
      "('#SupplyCrate', 82)\n",
      "('#CSRClassics', 80)\n",
      "('#フルボッコ', 80)\n",
      "('#factsoftheday', 80)\n",
      "('#garrisonpark', 78)\n",
      "('#SoundCloud', 76)\n",
      "('#sumobun', 76)\n"
     ]
    }
   ],
   "source": [
    "for f in hashfreq:\n",
    "    print(f)"
   ]
  },
  {
   "cell_type": "code",
   "execution_count": 12,
   "metadata": {
    "collapsed": true
   },
   "outputs": [],
   "source": [
    "urlfreq = Counter(urlanalyser(df)).most_common(30)"
   ]
  },
  {
   "cell_type": "code",
   "execution_count": 15,
   "metadata": {
    "collapsed": false
   },
   "outputs": [
    {
     "name": "stdout",
     "output_type": "stream",
     "text": [
      "http://fllwrs.com 572\n",
      "http://bnent.jp/optc-den2e/ 380\n",
      "http://uapp.ly 293\n",
      "https://t.lnk.to/spTw 279\n",
      "http://gigam.es/Castlez_tw 200\n",
      "http://bit.ly/yk3b9m 154\n",
      "http://www.tuitutil.net 126\n",
      "http://bit.ly/xHSyh0 113\n",
      "http://slfy.co/Jih9 103\n",
      "http://twcm.me/HXQ38 101\n",
      "http://bit.ly/1mH9KJj 100\n",
      "http://bit.ly/whBNNw 98\n",
      "http://bit.ly/zzEL3G 98\n",
      "http://ow.ly/7wAx30h5FET 97\n",
      "http://bnent.jp/optc-kr/ 97\n",
      "http://www.crowdfireapp.com/?r=tw 96\n",
      "http://goo.gl/fP9AGJ 96\n",
      "http://gigam.es/imtw_Tribez 93\n",
      "http://youtu.be/Q57ZGIJRF4o 92\n",
      "https://twitch.tv/ 87\n",
      "http://unfollowspy.com 84\n",
      "http://bit.ly/NtcNTs 76\n",
      "http://bit.ly/AzhyKP 76\n",
      "http://nmgam.es/cct_gp 73\n",
      "http://goo.gl/ePvvZt 73\n",
      "http://goo.gl/LLAA8j 73\n",
      "http://rekkacopy.com 70\n",
      "http://apple.co/1FQ0RtQ 70\n",
      "http://amzn.to/1Cg48yF 70\n",
      "http://www45.atwiki.jp/dendlightning/ 69\n"
     ]
    }
   ],
   "source": [
    "for url in urlfreq:\n",
    "    #print(\"http\" + url[0])\n",
    "    print(\"http\" + url[0], url[1])"
   ]
  },
  {
   "cell_type": "code",
   "execution_count": 14,
   "metadata": {
    "collapsed": false
   },
   "outputs": [
    {
     "data": {
      "text/plain": [
       "63025"
      ]
     },
     "execution_count": 14,
     "metadata": {},
     "output_type": "execute_result"
    }
   ],
   "source": [
    "len(urlanalyser(df))"
   ]
  },
  {
   "cell_type": "code",
   "execution_count": null,
   "metadata": {
    "collapsed": true
   },
   "outputs": [],
   "source": []
  }
 ],
 "metadata": {
  "kernelspec": {
   "display_name": "Python 3",
   "language": "python",
   "name": "python3"
  },
  "language_info": {
   "codemirror_mode": {
    "name": "ipython",
    "version": 3
   },
   "file_extension": ".py",
   "mimetype": "text/x-python",
   "name": "python",
   "nbconvert_exporter": "python",
   "pygments_lexer": "ipython3",
   "version": "3.6.0"
  }
 },
 "nbformat": 4,
 "nbformat_minor": 2
}
